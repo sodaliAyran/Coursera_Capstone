{
 "cells": [
  {
   "cell_type": "markdown",
   "metadata": {},
   "source": [
    "##  Introduction"
   ]
  },
  {
   "cell_type": "markdown",
   "metadata": {},
   "source": [
    "<p>For 5 months I have been trying to eat vegetarian. (Mostly pescetarian) And my plan for the next 5 years is to be completely vegan. My biggest problem for these 5 months was to eat outside. I live in İstanbul although there are quite many vegan restaurants out there most of the time they serve red meat based menus. And this is true for most of Turkey. (There is a reason why people on the internet call Turks Kebabs.) </p>\n",
    "<p>My friends who have been to Europe and United States told me that there are many more vegan and vegetarian options on that cities and it is much more easier to be vegan in Europe. So after this course I figured I could test this theory and try to find out if any major city in Turkey has similar vegan options and the problem I defined at the beginning is unique to İstanbul.</p>"
   ]
  },
  {
   "cell_type": "markdown",
   "metadata": {},
   "source": [
    "## Data"
   ]
  },
  {
   "cell_type": "markdown",
   "metadata": {},
   "source": [
    "<p>For the data I scraped 30 different city populations and their areas from google. And gathered vegan and vegetarian restaurant counts from Foursquare API. These cities are İstanbul, İzmir, Ankara, Hamburg, Berlin, Munich, London, Birmingham, Washington, New York, Madrid, Barcelona, Paris, Marseille, Brusells, Helsinki, Oslo, Reykjavik, Copenhagen, Amsterdam, Stockholm, Bern, Zurich, Luxembourg City, Toronto, Viana, Rio de Janeiro, Athens, Zagreb and Nicosia.</p>\n",
    "<p>The biggest problem for the data was the limit for the Foursquare API. Currently Foursquare API only returns maximum of 50 venues and because of this limitation although cities such as London and New York may have more than 50 vegan restaurants I considered them to have 50. </p>"
   ]
  },
  {
   "cell_type": "code",
   "execution_count": null,
   "metadata": {},
   "outputs": [],
   "source": []
  }
 ],
 "metadata": {
  "kernelspec": {
   "display_name": "Python 3",
   "language": "python",
   "name": "python3"
  },
  "language_info": {
   "codemirror_mode": {
    "name": "ipython",
    "version": 3
   },
   "file_extension": ".py",
   "mimetype": "text/x-python",
   "name": "python",
   "nbconvert_exporter": "python",
   "pygments_lexer": "ipython3",
   "version": "3.7.4"
  }
 },
 "nbformat": 4,
 "nbformat_minor": 2
}
